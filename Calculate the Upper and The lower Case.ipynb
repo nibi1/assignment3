{
 "cells": [
  {
   "cell_type": "markdown",
   "id": "c70a689f",
   "metadata": {},
   "source": [
    "# Write a Python function that accepts a string and calculate the number of upper case letters and lower case letters.\n",
    "\n",
    "\n",
    "\n",
    "﻿Sample String : 'The quick Brow Fox'\n",
    "\n",
    "Expected Output :\n",
    "\n",
    "No. of Upper case characters : 3\n",
    "\n",
    "No. of Lower case Characters : 12"
   ]
  },
  {
   "cell_type": "code",
   "execution_count": 7,
   "id": "93c535b9",
   "metadata": {},
   "outputs": [
    {
     "name": "stdout",
     "output_type": "stream",
     "text": [
      "1 Upper case 2 lower Case\n",
      "No. of Upper case characters : 2\n",
      "No. of Lower case Characters : 16\n"
     ]
    }
   ],
   "source": [
    "def case_counter(string):\n",
    "    '''function to calculate the number of upper case letters and lower case letters. '''\n",
    "    low_counter = 0\n",
    "    up_counter = 0\n",
    "    #for loop to count lower case and upper case\n",
    "    for i in range(0,len(string)):\n",
    "        if s[i].islower() == True:\n",
    "            low_counter +=1\n",
    "        elif s[i].isupper() == True:\n",
    "            up_counter += 1\n",
    "    #print the output\n",
    "    print(\"No. of Upper case characters :\", up_counter)\n",
    "    print(\"No. of Lower case Characters :\", low_counter)\n",
    "    \n",
    "s = input()\n",
    "case_counter(s)\n",
    "    "
   ]
  }
 ],
 "metadata": {
  "kernelspec": {
   "display_name": "Python 3 (ipykernel)",
   "language": "python",
   "name": "python3"
  },
  "language_info": {
   "codemirror_mode": {
    "name": "ipython",
    "version": 3
   },
   "file_extension": ".py",
   "mimetype": "text/x-python",
   "name": "python",
   "nbconvert_exporter": "python",
   "pygments_lexer": "ipython3",
   "version": "3.9.7"
  }
 },
 "nbformat": 4,
 "nbformat_minor": 5
}
