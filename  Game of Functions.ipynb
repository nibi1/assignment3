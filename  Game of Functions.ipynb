{
 "cells": [
  {
   "cell_type": "markdown",
   "id": "fd9d58e5",
   "metadata": {},
   "source": [
    "#  Write a Python function to sum all the numbers in a list.\n",
    "\n",
    "\n",
    "\n",
    "Sample List : (8, 2, 3, 0, 7)\n",
    "\n",
    "Expected Output : 20"
   ]
  },
  {
   "cell_type": "code",
   "execution_count": 18,
   "id": "2b17c57c",
   "metadata": {},
   "outputs": [
    {
     "name": "stdout",
     "output_type": "stream",
     "text": [
      "8 2 3 0 7\n",
      "20\n"
     ]
    }
   ],
   "source": [
    " def sum_list (li):\n",
    "    ''' function to sum all the numbers in a list'''    \n",
    "    addition = 0\n",
    "    for i in li:\n",
    "        addition += i\n",
    "    return addition\n",
    "# taking input a list of number\n",
    "x = [int(x) for x in input().split()]\n",
    "#function call sum_list\n",
    "print(sum_list(x))"
   ]
  },
  {
   "cell_type": "code",
   "execution_count": null,
   "id": "dd74e10b",
   "metadata": {},
   "outputs": [],
   "source": []
  }
 ],
 "metadata": {
  "kernelspec": {
   "display_name": "Python 3 (ipykernel)",
   "language": "python",
   "name": "python3"
  },
  "language_info": {
   "codemirror_mode": {
    "name": "ipython",
    "version": 3
   },
   "file_extension": ".py",
   "mimetype": "text/x-python",
   "name": "python",
   "nbconvert_exporter": "python",
   "pygments_lexer": "ipython3",
   "version": "3.9.7"
  }
 },
 "nbformat": 4,
 "nbformat_minor": 5
}
