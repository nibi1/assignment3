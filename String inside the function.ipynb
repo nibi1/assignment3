{
 "cells": [
  {
   "cell_type": "markdown",
   "id": "7d3622ff",
   "metadata": {},
   "source": [
    "# Write a Python program to reverse a string.\n",
    "\n",
    "\n",
    "\n",
    "﻿Sample String : \"1234abcd\"\n",
    "\n",
    "Expected Output : \"dcba4321\""
   ]
  },
  {
   "cell_type": "code",
   "execution_count": 16,
   "id": "d2fa402c",
   "metadata": {},
   "outputs": [
    {
     "name": "stdout",
     "output_type": "stream",
     "text": [
      "1234abcd\n",
      "dcba4321\n"
     ]
    }
   ],
   "source": [
    "def reverse_string(sample):\n",
    "    '''function to reverse string'''\n",
    "    new_string = \"\"\n",
    "    #reverse string\n",
    "    for i in range(0,len(sample)):\n",
    "        new_string = s[i] + new_string\n",
    "    return new_string\n",
    "\n",
    "s = input() #input from user \n",
    "# print reverse string with function call\n",
    "print(reverse_string(s))\n",
    "\n",
    "    "
   ]
  }
 ],
 "metadata": {
  "kernelspec": {
   "display_name": "Python 3 (ipykernel)",
   "language": "python",
   "name": "python3"
  },
  "language_info": {
   "codemirror_mode": {
    "name": "ipython",
    "version": 3
   },
   "file_extension": ".py",
   "mimetype": "text/x-python",
   "name": "python",
   "nbconvert_exporter": "python",
   "pygments_lexer": "ipython3",
   "version": "3.9.7"
  }
 },
 "nbformat": 4,
 "nbformat_minor": 5
}
